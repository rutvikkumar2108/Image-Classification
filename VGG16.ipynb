{
 "cells": [
  {
   "cell_type": "code",
   "execution_count": 1,
   "id": "97406843",
   "metadata": {},
   "outputs": [],
   "source": [
    "from tensorflow.compat.v1 import ConfigProto\n",
    "from tensorflow.compat.v1 import InteractiveSession\n",
    "\n",
    "config = ConfigProto()\n",
    "config.gpu_options.per_process_gpu_memory_fraction = 0.5\n",
    "config.gpu_options.allow_growth = True\n",
    "session = InteractiveSession(config=config)"
   ]
  },
  {
   "cell_type": "code",
   "execution_count": 2,
   "id": "335cf1fe",
   "metadata": {},
   "outputs": [],
   "source": [
    "# import the libraries as shown below\n",
    "import tensorflow as tf\n",
    "import cv2\n",
    "from tensorflow.keras.layers import Input, Lambda, Dense, Flatten\n",
    "from tensorflow.keras.models import Model\n",
    "from tensorflow.keras.applications.vgg16 import VGG16\n",
    "from tensorflow.keras.applications.vgg19 import VGG19\n",
    "from tensorflow.keras.preprocessing import image\n",
    "from tensorflow.keras.preprocessing.image import ImageDataGenerator,load_img\n",
    "from tensorflow.keras.models import Sequential\n",
    "import numpy as np\n",
    "from glob import glob\n",
    "#import matplotlib.pyplot as plt"
   ]
  },
  {
   "cell_type": "code",
   "execution_count": 3,
   "id": "ba6e86ee",
   "metadata": {},
   "outputs": [],
   "source": [
    "# re-size all the images to this\n",
    "IMAGE_SIZE = [224, 224]"
   ]
  },
  {
   "cell_type": "code",
   "execution_count": 4,
   "id": "ce5d6f9f",
   "metadata": {},
   "outputs": [],
   "source": [
    "vgg16 = VGG16(input_shape=IMAGE_SIZE + [3], weights='imagenet', include_top=False)"
   ]
  },
  {
   "cell_type": "code",
   "execution_count": 5,
   "id": "622e3d3f",
   "metadata": {},
   "outputs": [],
   "source": [
    "# don't train existing weights\n",
    "for layer in vgg16.layers:\n",
    "    layer.trainable = False"
   ]
  },
  {
   "cell_type": "code",
   "execution_count": 6,
   "id": "13e82e6f",
   "metadata": {},
   "outputs": [],
   "source": [
    "import tensorflow as tf"
   ]
  },
  {
   "cell_type": "code",
   "execution_count": 7,
   "id": "eaa881f6",
   "metadata": {},
   "outputs": [],
   "source": [
    "dataset_url = \"https://storage.googleapis.com/download.tensorflow.org/example_images/flower_photos.tgz\"\n",
    "data_dir = tf.keras.utils.get_file('flower_photos', origin=dataset_url,  cache_dir='.', untar=True)\n",
    "# cache_dir indicates where to download data. I specified . which means current directory\n",
    "# untar true will unzip it"
   ]
  },
  {
   "cell_type": "code",
   "execution_count": 8,
   "id": "65b40ba2",
   "metadata": {},
   "outputs": [
    {
     "data": {
      "text/plain": [
       "WindowsPath('datasets/flower_photos')"
      ]
     },
     "execution_count": 8,
     "metadata": {},
     "output_type": "execute_result"
    }
   ],
   "source": [
    "import pathlib\n",
    "data_dir = pathlib.Path(data_dir)\n",
    "data_dir"
   ]
  },
  {
   "cell_type": "code",
   "execution_count": 9,
   "id": "316a1bf8",
   "metadata": {},
   "outputs": [],
   "source": [
    "flowers_images_dict = {\n",
    "    'roses': list(data_dir.glob('roses/*')),\n",
    "    'daisy': list(data_dir.glob('daisy/*')),\n",
    "    'dandelion': list(data_dir.glob('dandelion/*')),\n",
    "    'sunflowers': list(data_dir.glob('sunflowers/*')),\n",
    "    'tulips': list(data_dir.glob('tulips/*')),\n",
    "}\n",
    "\n",
    "flowers_labels_dict = {\n",
    "    'roses': 0,\n",
    "    'daisy': 1,\n",
    "    'dandelion': 2,\n",
    "    'sunflowers': 3,\n",
    "    'tulips': 4,\n",
    "}"
   ]
  },
  {
   "cell_type": "code",
   "execution_count": 10,
   "id": "ad84c0c6",
   "metadata": {},
   "outputs": [],
   "source": [
    "X, y = [], []\n",
    "\n",
    "for flower_name, images in flowers_images_dict.items():\n",
    "    for image in images:\n",
    "        img = cv2.imread(str(image))\n",
    "        resized_img = cv2.resize(img,(224,224))\n",
    "        X.append(resized_img)\n",
    "        y.append(flowers_labels_dict[flower_name])"
   ]
  },
  {
   "cell_type": "code",
   "execution_count": 11,
   "id": "26e1c57c",
   "metadata": {},
   "outputs": [],
   "source": [
    "X = np.array(X)\n",
    "y = np.array(y)"
   ]
  },
  {
   "cell_type": "code",
   "execution_count": 12,
   "id": "a79a62b7",
   "metadata": {},
   "outputs": [],
   "source": [
    "from sklearn.model_selection import train_test_split\n",
    "X_train, X_test, y_train, y_test = train_test_split(X, y, random_state=0)"
   ]
  },
  {
   "cell_type": "code",
   "execution_count": 13,
   "id": "0ea66c04",
   "metadata": {},
   "outputs": [],
   "source": [
    "X_train_scaled = X_train / 255\n",
    "X_test_scaled = X_test / 255"
   ]
  },
  {
   "cell_type": "code",
   "execution_count": 14,
   "id": "8f0a5b83",
   "metadata": {},
   "outputs": [
    {
     "data": {
      "text/plain": [
       "array([[[[0.27843137, 0.3254902 , 0.31764706],\n",
       "         [0.24705882, 0.28235294, 0.2627451 ],\n",
       "         [0.25490196, 0.27058824, 0.24705882],\n",
       "         ...,\n",
       "         [0.18823529, 0.15294118, 0.14117647],\n",
       "         [0.18823529, 0.15294118, 0.14117647],\n",
       "         [0.18823529, 0.15294118, 0.14117647]],\n",
       "\n",
       "        [[0.23137255, 0.25882353, 0.25490196],\n",
       "         [0.23137255, 0.25490196, 0.23529412],\n",
       "         [0.25490196, 0.2627451 , 0.23921569],\n",
       "         ...,\n",
       "         [0.18823529, 0.15294118, 0.14117647],\n",
       "         [0.18823529, 0.15294118, 0.14117647],\n",
       "         [0.19607843, 0.16078431, 0.14901961]],\n",
       "\n",
       "        [[0.21960784, 0.22352941, 0.21960784],\n",
       "         [0.23921569, 0.24313725, 0.22745098],\n",
       "         [0.25098039, 0.25098039, 0.22745098],\n",
       "         ...,\n",
       "         [0.18823529, 0.15294118, 0.14117647],\n",
       "         [0.19215686, 0.15686275, 0.14509804],\n",
       "         [0.19607843, 0.16470588, 0.15294118]],\n",
       "\n",
       "        ...,\n",
       "\n",
       "        [[0.19215686, 0.49803922, 0.37647059],\n",
       "         [0.14901961, 0.2627451 , 0.19607843],\n",
       "         [0.20392157, 0.26666667, 0.19215686],\n",
       "         ...,\n",
       "         [0.80392157, 0.89803922, 0.90196078],\n",
       "         [0.7254902 , 0.80392157, 0.81176471],\n",
       "         [0.75686275, 0.75686275, 0.78039216]],\n",
       "\n",
       "        [[0.20392157, 0.51372549, 0.39607843],\n",
       "         [0.18039216, 0.2627451 , 0.2       ],\n",
       "         [0.19215686, 0.27058824, 0.19215686],\n",
       "         ...,\n",
       "         [0.79215686, 0.85882353, 0.87058824],\n",
       "         [0.8       , 0.79607843, 0.81176471],\n",
       "         [0.65882353, 0.55294118, 0.57647059]],\n",
       "\n",
       "        [[0.22352941, 0.52156863, 0.41568627],\n",
       "         [0.18039216, 0.23921569, 0.19215686],\n",
       "         [0.2       , 0.32156863, 0.24313725],\n",
       "         ...,\n",
       "         [0.98431373, 0.98431373, 0.99215686],\n",
       "         [0.69019608, 0.58431373, 0.59607843],\n",
       "         [0.37254902, 0.27058824, 0.2745098 ]]],\n",
       "\n",
       "\n",
       "       [[[0.54901961, 0.52156863, 0.51372549],\n",
       "         [0.29019608, 0.63921569, 0.40392157],\n",
       "         [0.10588235, 0.5254902 , 0.28235294],\n",
       "         ...,\n",
       "         [0.00784314, 0.01960784, 0.01960784],\n",
       "         [0.01176471, 0.03529412, 0.03137255],\n",
       "         [0.        , 0.02352941, 0.01960784]],\n",
       "\n",
       "        [[0.45490196, 0.69803922, 0.50196078],\n",
       "         [0.16470588, 0.4       , 0.25490196],\n",
       "         [0.10196078, 0.24313725, 0.16078431],\n",
       "         ...,\n",
       "         [0.00784314, 0.00784314, 0.00784314],\n",
       "         [0.00784314, 0.01568627, 0.01568627],\n",
       "         [0.        , 0.00784314, 0.00392157]],\n",
       "\n",
       "        [[0.01176471, 0.3254902 , 0.17254902],\n",
       "         [0.09411765, 0.25882353, 0.25098039],\n",
       "         [0.29411765, 0.48235294, 0.44313725],\n",
       "         ...,\n",
       "         [0.01176471, 0.01176471, 0.01176471],\n",
       "         [0.01568627, 0.01960784, 0.01960784],\n",
       "         [0.00392157, 0.01568627, 0.01176471]],\n",
       "\n",
       "        ...,\n",
       "\n",
       "        [[0.13333333, 0.43921569, 0.54509804],\n",
       "         [0.27058824, 0.48235294, 0.6627451 ],\n",
       "         [0.25098039, 0.43137255, 0.6627451 ],\n",
       "         ...,\n",
       "         [0.07843137, 0.40784314, 0.23137255],\n",
       "         [0.07058824, 0.34509804, 0.21176471],\n",
       "         [0.01568627, 0.20784314, 0.15294118]],\n",
       "\n",
       "        [[0.23137255, 0.47058824, 0.69019608],\n",
       "         [0.24313725, 0.51372549, 0.66666667],\n",
       "         [0.23921569, 0.41960784, 0.59215686],\n",
       "         ...,\n",
       "         [0.09803922, 0.41960784, 0.19215686],\n",
       "         [0.07058824, 0.40392157, 0.16862745],\n",
       "         [0.        , 0.34117647, 0.09803922]],\n",
       "\n",
       "        [[0.16078431, 0.31764706, 0.57254902],\n",
       "         [0.27843137, 0.42352941, 0.62352941],\n",
       "         [0.22745098, 0.4       , 0.58039216],\n",
       "         ...,\n",
       "         [0.14117647, 0.42352941, 0.20392157],\n",
       "         [0.13333333, 0.43137255, 0.21960784],\n",
       "         [0.0627451 , 0.39215686, 0.20392157]]],\n",
       "\n",
       "\n",
       "       [[[0.01960784, 0.06666667, 0.08627451],\n",
       "         [0.13333333, 0.18039216, 0.19607843],\n",
       "         [0.17254902, 0.21960784, 0.23529412],\n",
       "         ...,\n",
       "         [0.00784314, 0.10196078, 0.09411765],\n",
       "         [0.07058824, 0.16862745, 0.15294118],\n",
       "         [0.08235294, 0.17254902, 0.15294118]],\n",
       "\n",
       "        [[0.08627451, 0.14117647, 0.14509804],\n",
       "         [0.11372549, 0.17254902, 0.18039216],\n",
       "         [0.15686275, 0.21960784, 0.21568627],\n",
       "         ...,\n",
       "         [0.0627451 , 0.16078431, 0.14509804],\n",
       "         [0.03921569, 0.1372549 , 0.11372549],\n",
       "         [0.        , 0.0627451 , 0.03137255]],\n",
       "\n",
       "        [[0.03137255, 0.10980392, 0.09411765],\n",
       "         [0.02745098, 0.10196078, 0.08627451],\n",
       "         [0.02745098, 0.10588235, 0.09019608],\n",
       "         ...,\n",
       "         [0.04705882, 0.14509804, 0.12941176],\n",
       "         [0.01568627, 0.10588235, 0.08235294],\n",
       "         [0.01176471, 0.07843137, 0.04705882]],\n",
       "\n",
       "        ...,\n",
       "\n",
       "        [[0.04705882, 0.1254902 , 0.10588235],\n",
       "         [0.07058824, 0.12156863, 0.12941176],\n",
       "         [0.42352941, 0.46666667, 0.49411765],\n",
       "         ...,\n",
       "         [0.01960784, 0.08235294, 0.18823529],\n",
       "         [0.00392157, 0.01568627, 0.07843137],\n",
       "         [0.        , 0.04313725, 0.06666667]],\n",
       "\n",
       "        [[0.00392157, 0.03137255, 0.02352941],\n",
       "         [0.17254902, 0.22745098, 0.24705882],\n",
       "         [0.33333333, 0.37254902, 0.41176471],\n",
       "         ...,\n",
       "         [0.18039216, 0.24313725, 0.35294118],\n",
       "         [0.10588235, 0.16470588, 0.24705882],\n",
       "         [0.0627451 , 0.12156863, 0.18431373]],\n",
       "\n",
       "        [[0.03921569, 0.10588235, 0.10196078],\n",
       "         [0.03137255, 0.08235294, 0.10980392],\n",
       "         [0.11372549, 0.15294118, 0.2       ],\n",
       "         ...,\n",
       "         [0.16078431, 0.20392157, 0.31372549],\n",
       "         [0.21176471, 0.25490196, 0.36470588],\n",
       "         [0.10196078, 0.14509804, 0.25098039]]],\n",
       "\n",
       "\n",
       "       ...,\n",
       "\n",
       "\n",
       "       [[[0.03137255, 0.18823529, 0.07843137],\n",
       "         [0.03921569, 0.19607843, 0.08627451],\n",
       "         [0.03529412, 0.19607843, 0.08627451],\n",
       "         ...,\n",
       "         [0.05490196, 0.28235294, 0.16862745],\n",
       "         [0.05490196, 0.28235294, 0.16862745],\n",
       "         [0.04705882, 0.2745098 , 0.16078431]],\n",
       "\n",
       "        [[0.03529412, 0.19215686, 0.08235294],\n",
       "         [0.03921569, 0.2       , 0.09019608],\n",
       "         [0.03921569, 0.2       , 0.09019608],\n",
       "         ...,\n",
       "         [0.05882353, 0.28627451, 0.17254902],\n",
       "         [0.05490196, 0.28235294, 0.16862745],\n",
       "         [0.05098039, 0.27843137, 0.16470588]],\n",
       "\n",
       "        [[0.03921569, 0.19607843, 0.08627451],\n",
       "         [0.03921569, 0.2       , 0.09019608],\n",
       "         [0.04313725, 0.20392157, 0.09411765],\n",
       "         ...,\n",
       "         [0.05490196, 0.28627451, 0.17254902],\n",
       "         [0.05490196, 0.28627451, 0.16862745],\n",
       "         [0.05098039, 0.28235294, 0.16470588]],\n",
       "\n",
       "        ...,\n",
       "\n",
       "        [[0.10980392, 0.28235294, 0.19215686],\n",
       "         [0.10196078, 0.2745098 , 0.18039216],\n",
       "         [0.09803922, 0.2745098 , 0.17254902],\n",
       "         ...,\n",
       "         [0.02352941, 0.2627451 , 0.12156863],\n",
       "         [0.01960784, 0.26666667, 0.1254902 ],\n",
       "         [0.02352941, 0.27058824, 0.12941176]],\n",
       "\n",
       "        [[0.12156863, 0.28627451, 0.19607843],\n",
       "         [0.10588235, 0.2745098 , 0.17647059],\n",
       "         [0.09803922, 0.2745098 , 0.17254902],\n",
       "         ...,\n",
       "         [0.01960784, 0.2627451 , 0.12156863],\n",
       "         [0.01176471, 0.2627451 , 0.12156863],\n",
       "         [0.01568627, 0.26666667, 0.12941176]],\n",
       "\n",
       "        [[0.13333333, 0.28627451, 0.20392157],\n",
       "         [0.11372549, 0.2745098 , 0.18039216],\n",
       "         [0.10588235, 0.2745098 , 0.17647059],\n",
       "         ...,\n",
       "         [0.01568627, 0.25882353, 0.11764706],\n",
       "         [0.01568627, 0.26666667, 0.12156863],\n",
       "         [0.02352941, 0.2745098 , 0.13333333]]],\n",
       "\n",
       "\n",
       "       [[[0.00392157, 0.17647059, 0.25490196],\n",
       "         [0.03137255, 0.21176471, 0.29411765],\n",
       "         [0.01568627, 0.21176471, 0.31764706],\n",
       "         ...,\n",
       "         [0.11764706, 0.52156863, 0.69411765],\n",
       "         [0.08627451, 0.45882353, 0.60784314],\n",
       "         [0.07843137, 0.41176471, 0.55686275]],\n",
       "\n",
       "        [[0.01960784, 0.18431373, 0.25882353],\n",
       "         [0.02745098, 0.2       , 0.28627451],\n",
       "         [0.02745098, 0.20784314, 0.31372549],\n",
       "         ...,\n",
       "         [0.12156863, 0.54901961, 0.74901961],\n",
       "         [0.10588235, 0.52156863, 0.71372549],\n",
       "         [0.09411765, 0.47843137, 0.65490196]],\n",
       "\n",
       "        [[0.01568627, 0.18039216, 0.25098039],\n",
       "         [0.01960784, 0.18431373, 0.2745098 ],\n",
       "         [0.02352941, 0.19215686, 0.28235294],\n",
       "         ...,\n",
       "         [0.12156863, 0.57647059, 0.78431373],\n",
       "         [0.1254902 , 0.58039216, 0.79215686],\n",
       "         [0.11764706, 0.55686275, 0.75294118]],\n",
       "\n",
       "        ...,\n",
       "\n",
       "        [[0.01176471, 0.10588235, 0.08627451],\n",
       "         [0.00784314, 0.14901961, 0.19607843],\n",
       "         [0.03529412, 0.30196078, 0.43137255],\n",
       "         ...,\n",
       "         [0.21568627, 0.36470588, 0.36470588],\n",
       "         [0.16470588, 0.41960784, 0.48627451],\n",
       "         [0.04313725, 0.42745098, 0.5372549 ]],\n",
       "\n",
       "        [[0.04705882, 0.24313725, 0.37254902],\n",
       "         [0.03137255, 0.34509804, 0.54117647],\n",
       "         [0.07843137, 0.49803922, 0.70588235],\n",
       "         ...,\n",
       "         [0.17647059, 0.34509804, 0.38823529],\n",
       "         [0.12156863, 0.47058824, 0.55686275],\n",
       "         [0.05490196, 0.41960784, 0.5372549 ]],\n",
       "\n",
       "        [[0.10588235, 0.50196078, 0.70196078],\n",
       "         [0.0745098 , 0.56078431, 0.76470588],\n",
       "         [0.10588235, 0.62745098, 0.82745098],\n",
       "         ...,\n",
       "         [0.14117647, 0.40392157, 0.47058824],\n",
       "         [0.04313725, 0.43921569, 0.52941176],\n",
       "         [0.05098039, 0.42745098, 0.5254902 ]]],\n",
       "\n",
       "\n",
       "       [[[0.30196078, 0.3254902 , 0.31764706],\n",
       "         [0.31764706, 0.34117647, 0.3254902 ],\n",
       "         [0.41176471, 0.4745098 , 0.43137255],\n",
       "         ...,\n",
       "         [0.29019608, 0.30980392, 0.30588235],\n",
       "         [0.29019608, 0.30980392, 0.30588235],\n",
       "         [0.25882353, 0.28627451, 0.28235294]],\n",
       "\n",
       "        [[0.39607843, 0.45098039, 0.43921569],\n",
       "         [0.37647059, 0.43529412, 0.41568627],\n",
       "         [0.34117647, 0.47843137, 0.42745098],\n",
       "         ...,\n",
       "         [0.27843137, 0.29803922, 0.29411765],\n",
       "         [0.25490196, 0.2745098 , 0.27058824],\n",
       "         [0.25098039, 0.28627451, 0.28235294]],\n",
       "\n",
       "        [[0.60392157, 0.61960784, 0.61176471],\n",
       "         [0.53333333, 0.55294118, 0.54509804],\n",
       "         [0.31372549, 0.42352941, 0.39215686],\n",
       "         ...,\n",
       "         [0.25098039, 0.27058824, 0.26666667],\n",
       "         [0.24313725, 0.2627451 , 0.25882353],\n",
       "         [0.24705882, 0.27058824, 0.26666667]],\n",
       "\n",
       "        ...,\n",
       "\n",
       "        [[0.17647059, 0.22352941, 0.21568627],\n",
       "         [0.23137255, 0.27843137, 0.27058824],\n",
       "         [0.2627451 , 0.37254902, 0.34117647],\n",
       "         ...,\n",
       "         [0.39215686, 0.47058824, 0.39607843],\n",
       "         [0.40392157, 0.47843137, 0.40784314],\n",
       "         [0.35686275, 0.45490196, 0.38039216]],\n",
       "\n",
       "        [[0.20784314, 0.2745098 , 0.25098039],\n",
       "         [0.22352941, 0.29019608, 0.26666667],\n",
       "         [0.27058824, 0.38431373, 0.34509804],\n",
       "         ...,\n",
       "         [0.38039216, 0.45882353, 0.38431373],\n",
       "         [0.41568627, 0.49019608, 0.42352941],\n",
       "         [0.36862745, 0.47058824, 0.4       ]],\n",
       "\n",
       "        [[0.30196078, 0.43529412, 0.37254902],\n",
       "         [0.29019608, 0.43137255, 0.37254902],\n",
       "         [0.25490196, 0.38823529, 0.3372549 ],\n",
       "         ...,\n",
       "         [0.37647059, 0.45490196, 0.38039216],\n",
       "         [0.41960784, 0.49411765, 0.42745098],\n",
       "         [0.38039216, 0.48627451, 0.41176471]]]])"
      ]
     },
     "execution_count": 14,
     "metadata": {},
     "output_type": "execute_result"
    }
   ],
   "source": [
    "X_train_scaled"
   ]
  },
  {
   "cell_type": "code",
   "execution_count": 15,
   "id": "9c168152",
   "metadata": {},
   "outputs": [
    {
     "data": {
      "text/plain": [
       "array([2, 0, 1, ..., 2, 3, 3])"
      ]
     },
     "execution_count": 15,
     "metadata": {},
     "output_type": "execute_result"
    }
   ],
   "source": [
    "y_train"
   ]
  },
  {
   "cell_type": "code",
   "execution_count": null,
   "id": "d8ec20ef",
   "metadata": {},
   "outputs": [],
   "source": []
  },
  {
   "cell_type": "code",
   "execution_count": 16,
   "id": "b8386250",
   "metadata": {},
   "outputs": [],
   "source": [
    "# our layers - you can add more if you want\n",
    "x = Flatten()(vgg16.output)"
   ]
  },
  {
   "cell_type": "code",
   "execution_count": 17,
   "id": "0b6be914",
   "metadata": {},
   "outputs": [],
   "source": [
    "prediction = Dense(5, activation='softmax')(x)\n",
    "\n",
    "# create a model object\n",
    "model = Model(inputs=vgg16.input, outputs=prediction)"
   ]
  },
  {
   "cell_type": "code",
   "execution_count": 18,
   "id": "8ac87c15",
   "metadata": {},
   "outputs": [
    {
     "name": "stdout",
     "output_type": "stream",
     "text": [
      "Model: \"model\"\n",
      "_________________________________________________________________\n",
      " Layer (type)                Output Shape              Param #   \n",
      "=================================================================\n",
      " input_1 (InputLayer)        [(None, 224, 224, 3)]     0         \n",
      "                                                                 \n",
      " block1_conv1 (Conv2D)       (None, 224, 224, 64)      1792      \n",
      "                                                                 \n",
      " block1_conv2 (Conv2D)       (None, 224, 224, 64)      36928     \n",
      "                                                                 \n",
      " block1_pool (MaxPooling2D)  (None, 112, 112, 64)      0         \n",
      "                                                                 \n",
      " block2_conv1 (Conv2D)       (None, 112, 112, 128)     73856     \n",
      "                                                                 \n",
      " block2_conv2 (Conv2D)       (None, 112, 112, 128)     147584    \n",
      "                                                                 \n",
      " block2_pool (MaxPooling2D)  (None, 56, 56, 128)       0         \n",
      "                                                                 \n",
      " block3_conv1 (Conv2D)       (None, 56, 56, 256)       295168    \n",
      "                                                                 \n",
      " block3_conv2 (Conv2D)       (None, 56, 56, 256)       590080    \n",
      "                                                                 \n",
      " block3_conv3 (Conv2D)       (None, 56, 56, 256)       590080    \n",
      "                                                                 \n",
      " block3_pool (MaxPooling2D)  (None, 28, 28, 256)       0         \n",
      "                                                                 \n",
      " block4_conv1 (Conv2D)       (None, 28, 28, 512)       1180160   \n",
      "                                                                 \n",
      " block4_conv2 (Conv2D)       (None, 28, 28, 512)       2359808   \n",
      "                                                                 \n",
      " block4_conv3 (Conv2D)       (None, 28, 28, 512)       2359808   \n",
      "                                                                 \n",
      " block4_pool (MaxPooling2D)  (None, 14, 14, 512)       0         \n",
      "                                                                 \n",
      " block5_conv1 (Conv2D)       (None, 14, 14, 512)       2359808   \n",
      "                                                                 \n",
      " block5_conv2 (Conv2D)       (None, 14, 14, 512)       2359808   \n",
      "                                                                 \n",
      " block5_conv3 (Conv2D)       (None, 14, 14, 512)       2359808   \n",
      "                                                                 \n",
      " block5_pool (MaxPooling2D)  (None, 7, 7, 512)         0         \n",
      "                                                                 \n",
      " flatten (Flatten)           (None, 25088)             0         \n",
      "                                                                 \n",
      " dense (Dense)               (None, 5)                 125445    \n",
      "                                                                 \n",
      "=================================================================\n",
      "Total params: 14,840,133\n",
      "Trainable params: 125,445\n",
      "Non-trainable params: 14,714,688\n",
      "_________________________________________________________________\n"
     ]
    }
   ],
   "source": [
    "# view the structure of the model\n",
    "model.summary()"
   ]
  },
  {
   "cell_type": "code",
   "execution_count": 19,
   "id": "b02f9510",
   "metadata": {},
   "outputs": [],
   "source": [
    "# tell the model what cost and optimization method to use\n",
    "model.compile(\n",
    "  loss=tf.keras.losses.SparseCategoricalCrossentropy(from_logits=True),\n",
    "  optimizer='adam',\n",
    "  metrics=['accuracy']\n",
    ")"
   ]
  },
  {
   "cell_type": "code",
   "execution_count": 20,
   "id": "04f67441",
   "metadata": {},
   "outputs": [
    {
     "data": {
      "text/plain": [
       "(2752, 224, 224, 3)"
      ]
     },
     "execution_count": 20,
     "metadata": {},
     "output_type": "execute_result"
    }
   ],
   "source": [
    "X_train_scaled.shape"
   ]
  },
  {
   "cell_type": "code",
   "execution_count": 21,
   "id": "c7fb586e",
   "metadata": {
    "scrolled": true
   },
   "outputs": [
    {
     "data": {
      "text/plain": [
       "(2752,)"
      ]
     },
     "execution_count": 21,
     "metadata": {},
     "output_type": "execute_result"
    }
   ],
   "source": [
    "y_train.shape"
   ]
  },
  {
   "cell_type": "code",
   "execution_count": 22,
   "id": "2ef697a7",
   "metadata": {},
   "outputs": [
    {
     "name": "stdout",
     "output_type": "stream",
     "text": [
      "Epoch 1/5\n"
     ]
    },
    {
     "name": "stderr",
     "output_type": "stream",
     "text": [
      "C:\\Users\\LENOVO\\anaconda3\\lib\\site-packages\\keras\\backend.py:5612: UserWarning: \"`sparse_categorical_crossentropy` received `from_logits=True`, but the `output` argument was produced by a Softmax activation and thus does not represent logits. Was this intended?\n",
      "  output, from_logits = _get_logits(\n"
     ]
    },
    {
     "name": "stdout",
     "output_type": "stream",
     "text": [
      "58/58 [==============================] - 1073s 19s/step - loss: 0.8156 - accuracy: 0.7005 - val_loss: 0.6509 - val_accuracy: 0.7954\n",
      "Epoch 2/5\n",
      "58/58 [==============================] - 653s 11s/step - loss: 0.2510 - accuracy: 0.9251 - val_loss: 0.5692 - val_accuracy: 0.8130\n",
      "Epoch 3/5\n",
      "58/58 [==============================] - 630s 11s/step - loss: 0.1208 - accuracy: 0.9696 - val_loss: 0.6064 - val_accuracy: 0.7932\n",
      "Epoch 4/5\n",
      "58/58 [==============================] - 609s 11s/step - loss: 0.0733 - accuracy: 0.9908 - val_loss: 0.5895 - val_accuracy: 0.8185\n",
      "Epoch 5/5\n",
      "58/58 [==============================] - 675s 12s/step - loss: 0.0373 - accuracy: 0.9989 - val_loss: 0.5630 - val_accuracy: 0.8306\n"
     ]
    }
   ],
   "source": [
    "# fit the model\n",
    "# Run the cell. It will take some time to execute\n",
    "r = model.fit(\n",
    "  X_train_scaled,y_train,\n",
    "    validation_split=0.33,\n",
    "  epochs=5\n",
    ")"
   ]
  },
  {
   "cell_type": "code",
   "execution_count": 23,
   "id": "1e9d98e5",
   "metadata": {},
   "outputs": [
    {
     "name": "stdout",
     "output_type": "stream",
     "text": [
      "29/29 [==============================] - 233s 8s/step - loss: 0.5115 - accuracy: 0.8268\n"
     ]
    },
    {
     "data": {
      "text/plain": [
       "[0.511519193649292, 0.826797366142273]"
      ]
     },
     "execution_count": 23,
     "metadata": {},
     "output_type": "execute_result"
    }
   ],
   "source": [
    "model.evaluate(X_test_scaled,y_test)"
   ]
  },
  {
   "cell_type": "code",
   "execution_count": 24,
   "id": "ebfbe519",
   "metadata": {},
   "outputs": [],
   "source": [
    "import matplotlib.pyplot as plt"
   ]
  },
  {
   "cell_type": "code",
   "execution_count": 25,
   "id": "9b1226b5",
   "metadata": {},
   "outputs": [
    {
     "data": {
      "image/png": "[encoded data removed]",
      "text/plain": [
       "<Figure size 640x480 with 1 Axes>"
      ]
     },
     "metadata": {},
     "output_type": "display_data"
    },
    {
     "data": {
      "image/png": "[encoded data removed]",
      "text/plain": [
       "<Figure size 640x480 with 1 Axes>"
      ]
     },
     "metadata": {},
     "output_type": "display_data"
    },
    {
     "data": {
      "text/plain": [
       "<Figure size 640x480 with 0 Axes>"
      ]
     },
     "metadata": {},
     "output_type": "display_data"
    }
   ],
   "source": [
    "# plot the loss\n",
    "plt.plot(r.history['loss'], label='train loss')\n",
    "plt.plot(r.history['val_loss'], label='val loss')\n",
    "plt.legend()\n",
    "plt.show()\n",
    "plt.savefig('LossVal_loss')\n",
    "\n",
    "# plot the accuracy\n",
    "plt.plot(r.history['accuracy'], label='train acc')\n",
    "plt.plot(r.history['val_accuracy'], label='val acc')\n",
    "plt.legend()\n",
    "plt.show()\n",
    "plt.savefig('AccVal_acc')"
   ]
  },
  {
   "cell_type": "code",
   "execution_count": 26,
   "id": "4e6d455c",
   "metadata": {},
   "outputs": [],
   "source": [
    "model.save('VGG16.h5')"
   ]
  },
  {
   "cell_type": "code",
   "execution_count": 27,
   "id": "ce2ef87d",
   "metadata": {},
   "outputs": [],
   "source": [
    "# pickling the model\n",
    "import pickle\n",
    "pickle_out = open(\"VGG16.pkl\", \"wb\")\n",
    "pickle.dump(model, pickle_out)\n",
    "pickle_out.close()"
   ]
  },
  {
   "cell_type": "code",
   "execution_count": null,
   "id": "f8b4bc71",
   "metadata": {},
   "outputs": [],
   "source": []
  },
  {
   "cell_type": "code",
   "execution_count": null,
   "id": "acdff959",
   "metadata": {},
   "outputs": [],
   "source": []
  }
 ],
 "metadata": {
  "kernelspec": {
   "display_name": "Python 3 (ipykernel)",
   "language": "python",
   "name": "python3"
  },
  "language_info": {
   "codemirror_mode": {
    "name": "ipython",
    "version": 3
   },
   "file_extension": ".py",
   "mimetype": "text/x-python",
   "name": "python",
   "nbconvert_exporter": "python",
   "pygments_lexer": "ipython3",
   "version": "3.10.9"
  }
 },
 "nbformat": 4,
 "nbformat_minor": 5
}
